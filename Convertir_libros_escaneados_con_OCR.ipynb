{
  "nbformat": 4,
  "nbformat_minor": 0,
  "metadata": {
    "colab": {
      "provenance": [],
      "include_colab_link": true
    },
    "kernelspec": {
      "name": "python3",
      "display_name": "Python 3"
    },
    "language_info": {
      "name": "python"
    }
  },
  "cells": [
    {
      "cell_type": "markdown",
      "metadata": {
        "id": "view-in-github",
        "colab_type": "text"
      },
      "source": [
        "<a href=\"https://colab.research.google.com/github/juanandres-montero/Tools/blob/main/Convertir_libros_escaneados_con_OCR.ipynb\" target=\"_parent\"><img src=\"https://colab.research.google.com/assets/colab-badge.svg\" alt=\"Open In Colab\"/></a>"
      ]
    },
    {
      "cell_type": "markdown",
      "metadata": {
        "id": "ClOQuULUQSy3"
      },
      "source": [
        "#  Convertir un PDF escaneado a un PDF con capacidad de búsqueda con OCR"
      ]
    },
    {
      "cell_type": "markdown",
      "metadata": {
        "id": "TkyND3wwdX3x"
      },
      "source": [
        "Más información de OCR y PDF en : https://github.com/jbarlow83/OCRmyPDF"
      ]
    },
    {
      "cell_type": "code",
      "metadata": {
        "id": "sBl8EFSDPFR0",
        "cellView": "form"
      },
      "source": [
        "! apt install tesseract-ocr\n",
        "! apt install libtesseract-dev\n",
        "!pip install pytesseract\n",
        "!apt install ghostscript\n",
        "!pip install ocrmypdf\n",
        "from ctypes.util import find_library\n",
        "find_library(\"gs\")\n",
        "import pandas as pd\n",
        "%load_ext google.colab.data_table\n",
        "!mkdir input_papers\n",
        "!mkdir output_papers\n",
        "#@markdown # Instalar requerimientos"
      ],
      "execution_count": null,
      "outputs": []
    },
    {
      "cell_type": "markdown",
      "metadata": {
        "id": "JFIUgo09Qb0d"
      },
      "source": [
        "## OCR Execution"
      ]
    },
    {
      "cell_type": "markdown",
      "metadata": {
        "id": "sEActy1Fcs9-"
      },
      "source": [
        "<==== De click sobre el logo del folder.  \n",
        "Suba los pdf escaneados en la carpeta \"input_papers\".  \n",
        "El pdf con ocr estará en la carpeta \"output_papers\".  \n",
        "(Si las carpetas no aparecen, refresque el folder usando el boton de refrescar)"
      ]
    },
    {
      "cell_type": "code",
      "metadata": {
        "id": "mSqutb7ZVoA4",
        "cellView": "form"
      },
      "source": [
        "import os\n",
        "file_list = []\n",
        "\n",
        "input_folder_path = \"/content/input_papers\"\n",
        "output_folder_path = \"/content/output_papers\"\n",
        "\n",
        "for filename in os.listdir(input_folder_path):\n",
        "    if filename.endswith(\"pdf\"):\n",
        "      file_list.append(filename)\n",
        "\n",
        "print(\"Los siguientes archivos serán convertidos : \")\n",
        "pd.DataFrame(file_list, columns=[\"Filename\"])\n",
        "#@markdown # Comprobar archivos"
      ],
      "execution_count": null,
      "outputs": []
    },
    {
      "cell_type": "markdown",
      "metadata": {
        "id": "2JY2Vjwuc9u5"
      },
      "source": [
        "**AVISO** : Toma varios minutos por cada archivo pdf, tener paciencia."
      ]
    },
    {
      "cell_type": "code",
      "metadata": {
        "id": "T6UZ_pALYo2b",
        "cellView": "form"
      },
      "source": [
        "for filename in file_list:\n",
        "  print(\"Convertiendo : \" + filename)\n",
        "  input_filename = input_folder_path+'/'+filename\n",
        "  output_filename = output_folder_path+'/'+filename\n",
        "  !ocrmypdf --force-ocr \"{input_filename}\" \"{output_filename}\"\n",
        "  #@markdown # Convertir"
      ],
      "execution_count": null,
      "outputs": []
    }
  ]
}