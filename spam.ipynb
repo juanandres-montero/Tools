{
  "nbformat": 4,
  "nbformat_minor": 0,
  "metadata": {
    "colab": {
      "provenance": [],
      "authorship_tag": "ABX9TyMytOOKjGzzg6vUQjsQKtpX",
      "include_colab_link": true
    },
    "kernelspec": {
      "name": "python3",
      "display_name": "Python 3"
    },
    "language_info": {
      "name": "python"
    }
  },
  "cells": [
    {
      "cell_type": "markdown",
      "metadata": {
        "id": "view-in-github",
        "colab_type": "text"
      },
      "source": [
        "<a href=\"https://colab.research.google.com/github/juanandres-montero/Tools/blob/main/spam.ipynb\" target=\"_parent\"><img src=\"https://colab.research.google.com/assets/colab-badge.svg\" alt=\"Open In Colab\"/></a>"
      ]
    },
    {
      "cell_type": "code",
      "execution_count": null,
      "metadata": {
        "id": "fIk-HCuvzPZv"
      },
      "outputs": [],
      "source": [
        "import pyautogui as auto\n",
        "from time import sleep\n",
        "\n",
        "for i in range(20):\n",
        "    sleep(0.5)\n",
        "    auto.typewrite(str(i)) #En este caso range(20) será el mensaje a enviar\n",
        "    auto.press(\"enter\") # Presiona enter"
      ]
    },
    {
      "cell_type": "markdown",
      "source": [
        "Cambiar ```str(i)``` por el mensaje a enviar y ```range(20)``` por la cantidad de veces"
      ],
      "metadata": {
        "id": "H3MafG9lzyP4"
      }
    },
    {
      "cell_type": "markdown",
      "source": [
        "## Guarda y se descarga como .py"
      ],
      "metadata": {
        "id": "LVI2jCqHzVTI"
      }
    }
  ]
}